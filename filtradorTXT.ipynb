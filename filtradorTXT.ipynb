{
  "nbformat": 4,
  "nbformat_minor": 0,
  "metadata": {
    "colab": {
      "provenance": []
    },
    "kernelspec": {
      "name": "python3",
      "display_name": "Python 3"
    },
    "language_info": {
      "name": "python"
    }
  },
  "cells": [
    {
      "cell_type": "code",
      "execution_count": null,
      "metadata": {
        "colab": {
          "base_uri": "https://localhost:8080/"
        },
        "id": "R-sfK4dtqG79",
        "outputId": "51ad1358-eb62-4fdc-d6fd-ac5add4acb4a"
      },
      "outputs": [
        {
          "output_type": "stream",
          "name": "stdout",
          "text": [
            "Collecting PyMuPDF\n",
            "  Downloading PyMuPDF-1.23.3-cp310-none-manylinux2014_x86_64.whl (4.3 MB)\n",
            "\u001b[2K     \u001b[90m━━━━━━━━━━━━━━━━━━━━━━━━━━━━━━━━━━━━━━━━\u001b[0m \u001b[32m4.3/4.3 MB\u001b[0m \u001b[31m29.4 MB/s\u001b[0m eta \u001b[36m0:00:00\u001b[0m\n",
            "\u001b[?25hCollecting PyMuPDFb==1.23.3 (from PyMuPDF)\n",
            "  Downloading PyMuPDFb-1.23.3-py3-none-manylinux2014_x86_64.manylinux_2_17_x86_64.whl (30.6 MB)\n",
            "\u001b[2K     \u001b[90m━━━━━━━━━━━━━━━━━━━━━━━━━━━━━━━━━━━━━━━━\u001b[0m \u001b[32m30.6/30.6 MB\u001b[0m \u001b[31m35.5 MB/s\u001b[0m eta \u001b[36m0:00:00\u001b[0m\n",
            "\u001b[?25hInstalling collected packages: PyMuPDFb, PyMuPDF\n",
            "Successfully installed PyMuPDF-1.23.3 PyMuPDFb-1.23.3\n"
          ]
        }
      ],
      "source": [
        "pip install PyMuPDF"
      ]
    },
    {
      "cell_type": "code",
      "source": [
        "import fitz\n",
        "with fitz.open(\"/content/DOEAL3763500216225092023.pdf\") as doc:\n",
        "    text = \"\"\n",
        "    for page in doc:\n",
        "        text += page.get_text()\n",
        "\n"
      ],
      "metadata": {
        "id": "jd0G2nkMqUHk"
      },
      "execution_count": null,
      "outputs": []
    },
    {
      "cell_type": "code",
      "source": [
        "with open('ola.txt',\"w\") as txt: #trasnsformado para arquivo .txt\n",
        "  txt.write(text)\n"
      ],
      "metadata": {
        "id": "1FkztWWERJug"
      },
      "execution_count": null,
      "outputs": []
    },
    {
      "cell_type": "code",
      "source": [
        "municipios =\"Arapiraca; Batalha; Belo Monte; Campo Grande; Coité do Nóia; Craíbas; Feira Grande; Girau do Ponciano; Jaramataia; Lagoa da Canoa; Limoeiro de Anadia; São Sebastião; Taquarana; Traipu\"\n",
        "lista = municipios.split('; ')\n",
        "lista"
      ],
      "metadata": {
        "colab": {
          "base_uri": "https://localhost:8080/"
        },
        "id": "-3eom0QaaiyU",
        "outputId": "d78d4c2b-7e92-404f-8daa-f3ca85ec66f3"
      },
      "execution_count": null,
      "outputs": [
        {
          "output_type": "execute_result",
          "data": {
            "text/plain": [
              "['Arapiraca',\n",
              " 'Batalha',\n",
              " 'Belo Monte',\n",
              " 'Campo Grande',\n",
              " 'Coité do Nóia',\n",
              " 'Craíbas',\n",
              " 'Feira Grande',\n",
              " 'Girau do Ponciano',\n",
              " 'Jaramataia',\n",
              " 'Lagoa da Canoa',\n",
              " 'Limoeiro de Anadia',\n",
              " 'São Sebastião',\n",
              " 'Taquarana',\n",
              " 'Traipu']"
            ]
          },
          "metadata": {},
          "execution_count": 20
        }
      ]
    },
    {
      "cell_type": "code",
      "source": [
        "separando = text.split(\"Protocolo\")\n"
      ],
      "metadata": {
        "id": "RtH_g7omiYoC",
        "colab": {
          "base_uri": "https://localhost:8080/"
        },
        "outputId": "ae21e9e2-f54d-482a-d75b-dd4edd0165ff"
      },
      "execution_count": null,
      "outputs": [
        {
          "output_type": "stream",
          "name": "stdout",
          "text": [
            "ola \n",
            " ola\n"
          ]
        }
      ]
    },
    {
      "cell_type": "code",
      "source": [
        "from typing import TextIO\n",
        "def buscaMunicipio(nome,textSplit):\n",
        "  texto=''\n",
        "  for strg in textSplit:\n",
        "    if nome in strg:\n",
        "      texto = texto + strg + \"\\n ---------------------------\"\n",
        "  with open(nome + \".txt\",'w') as arq:\n",
        "    arq.write(texto)\n",
        "\n"
      ],
      "metadata": {
        "id": "M5PGqBVA7fdO"
      },
      "execution_count": null,
      "outputs": []
    },
    {
      "cell_type": "code",
      "source": [
        "for i in lista:\n",
        "  buscaMunicipio(i,separando)"
      ],
      "metadata": {
        "id": "8DiLHhjl_Pv0"
      },
      "execution_count": null,
      "outputs": []
    }
  ]
}