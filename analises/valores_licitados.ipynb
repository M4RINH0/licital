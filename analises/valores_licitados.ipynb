{
 "cells": [
  {
   "cell_type": "code",
   "execution_count": 1,
   "metadata": {},
   "outputs": [
    {
     "ename": "HTTPError",
     "evalue": "HTTP Error 404: Not Found",
     "output_type": "error",
     "traceback": [
      "\u001b[0;31m---------------------------------------------------------------------------\u001b[0m",
      "\u001b[0;31mHTTPError\u001b[0m                                 Traceback (most recent call last)",
      "\u001b[1;32m/home/douglas/MDS/2023-2-Squad03/analises/valores_licitados.ipynb Célula 1\u001b[0m line \u001b[0;36m3\n\u001b[1;32m      <a href='vscode-notebook-cell:/home/douglas/MDS/2023-2-Squad03/analises/valores_licitados.ipynb#W0sZmlsZQ%3D%3D?line=0'>1</a>\u001b[0m \u001b[39mimport\u001b[39;00m \u001b[39mpandas\u001b[39;00m \u001b[39mas\u001b[39;00m \u001b[39mpd\u001b[39;00m\n\u001b[0;32m----> <a href='vscode-notebook-cell:/home/douglas/MDS/2023-2-Squad03/analises/valores_licitados.ipynb#W0sZmlsZQ%3D%3D?line=2'>3</a>\u001b[0m df \u001b[39m=\u001b[39m pd\u001b[39m.\u001b[39;49mread_json(\u001b[39m\"\u001b[39;49m\u001b[39mhttps://github.com/unb-mds/2023-2-Squad03/raw/main/valores_licitacoes.zip\u001b[39;49m\u001b[39m\"\u001b[39;49m)\n\u001b[1;32m      <a href='vscode-notebook-cell:/home/douglas/MDS/2023-2-Squad03/analises/valores_licitados.ipynb#W0sZmlsZQ%3D%3D?line=3'>4</a>\u001b[0m \u001b[39mprint\u001b[39m(df\u001b[39m.\u001b[39mshape)\n\u001b[1;32m      <a href='vscode-notebook-cell:/home/douglas/MDS/2023-2-Squad03/analises/valores_licitados.ipynb#W0sZmlsZQ%3D%3D?line=4'>5</a>\u001b[0m \u001b[39mprint\u001b[39m(df\u001b[39m.\u001b[39mhead())\n",
      "File \u001b[0;32m~/.local/lib/python3.10/site-packages/pandas/io/json/_json.py:780\u001b[0m, in \u001b[0;36mread_json\u001b[0;34m(path_or_buf, orient, typ, dtype, convert_axes, convert_dates, keep_default_dates, precise_float, date_unit, encoding, encoding_errors, lines, chunksize, compression, nrows, storage_options, dtype_backend, engine)\u001b[0m\n\u001b[1;32m    777\u001b[0m \u001b[39mif\u001b[39;00m convert_axes \u001b[39mis\u001b[39;00m \u001b[39mNone\u001b[39;00m \u001b[39mand\u001b[39;00m orient \u001b[39m!=\u001b[39m \u001b[39m\"\u001b[39m\u001b[39mtable\u001b[39m\u001b[39m\"\u001b[39m:\n\u001b[1;32m    778\u001b[0m     convert_axes \u001b[39m=\u001b[39m \u001b[39mTrue\u001b[39;00m\n\u001b[0;32m--> 780\u001b[0m json_reader \u001b[39m=\u001b[39m JsonReader(\n\u001b[1;32m    781\u001b[0m     path_or_buf,\n\u001b[1;32m    782\u001b[0m     orient\u001b[39m=\u001b[39;49morient,\n\u001b[1;32m    783\u001b[0m     typ\u001b[39m=\u001b[39;49mtyp,\n\u001b[1;32m    784\u001b[0m     dtype\u001b[39m=\u001b[39;49mdtype,\n\u001b[1;32m    785\u001b[0m     convert_axes\u001b[39m=\u001b[39;49mconvert_axes,\n\u001b[1;32m    786\u001b[0m     convert_dates\u001b[39m=\u001b[39;49mconvert_dates,\n\u001b[1;32m    787\u001b[0m     keep_default_dates\u001b[39m=\u001b[39;49mkeep_default_dates,\n\u001b[1;32m    788\u001b[0m     precise_float\u001b[39m=\u001b[39;49mprecise_float,\n\u001b[1;32m    789\u001b[0m     date_unit\u001b[39m=\u001b[39;49mdate_unit,\n\u001b[1;32m    790\u001b[0m     encoding\u001b[39m=\u001b[39;49mencoding,\n\u001b[1;32m    791\u001b[0m     lines\u001b[39m=\u001b[39;49mlines,\n\u001b[1;32m    792\u001b[0m     chunksize\u001b[39m=\u001b[39;49mchunksize,\n\u001b[1;32m    793\u001b[0m     compression\u001b[39m=\u001b[39;49mcompression,\n\u001b[1;32m    794\u001b[0m     nrows\u001b[39m=\u001b[39;49mnrows,\n\u001b[1;32m    795\u001b[0m     storage_options\u001b[39m=\u001b[39;49mstorage_options,\n\u001b[1;32m    796\u001b[0m     encoding_errors\u001b[39m=\u001b[39;49mencoding_errors,\n\u001b[1;32m    797\u001b[0m     dtype_backend\u001b[39m=\u001b[39;49mdtype_backend,\n\u001b[1;32m    798\u001b[0m     engine\u001b[39m=\u001b[39;49mengine,\n\u001b[1;32m    799\u001b[0m )\n\u001b[1;32m    801\u001b[0m \u001b[39mif\u001b[39;00m chunksize:\n\u001b[1;32m    802\u001b[0m     \u001b[39mreturn\u001b[39;00m json_reader\n",
      "File \u001b[0;32m~/.local/lib/python3.10/site-packages/pandas/io/json/_json.py:893\u001b[0m, in \u001b[0;36mJsonReader.__init__\u001b[0;34m(self, filepath_or_buffer, orient, typ, dtype, convert_axes, convert_dates, keep_default_dates, precise_float, date_unit, encoding, lines, chunksize, compression, nrows, storage_options, encoding_errors, dtype_backend, engine)\u001b[0m\n\u001b[1;32m    891\u001b[0m     \u001b[39mself\u001b[39m\u001b[39m.\u001b[39mdata \u001b[39m=\u001b[39m filepath_or_buffer\n\u001b[1;32m    892\u001b[0m \u001b[39melif\u001b[39;00m \u001b[39mself\u001b[39m\u001b[39m.\u001b[39mengine \u001b[39m==\u001b[39m \u001b[39m\"\u001b[39m\u001b[39mujson\u001b[39m\u001b[39m\"\u001b[39m:\n\u001b[0;32m--> 893\u001b[0m     data \u001b[39m=\u001b[39m \u001b[39mself\u001b[39;49m\u001b[39m.\u001b[39;49m_get_data_from_filepath(filepath_or_buffer)\n\u001b[1;32m    894\u001b[0m     \u001b[39mself\u001b[39m\u001b[39m.\u001b[39mdata \u001b[39m=\u001b[39m \u001b[39mself\u001b[39m\u001b[39m.\u001b[39m_preprocess_data(data)\n",
      "File \u001b[0;32m~/.local/lib/python3.10/site-packages/pandas/io/json/_json.py:933\u001b[0m, in \u001b[0;36mJsonReader._get_data_from_filepath\u001b[0;34m(self, filepath_or_buffer)\u001b[0m\n\u001b[1;32m    926\u001b[0m filepath_or_buffer \u001b[39m=\u001b[39m stringify_path(filepath_or_buffer)\n\u001b[1;32m    927\u001b[0m \u001b[39mif\u001b[39;00m (\n\u001b[1;32m    928\u001b[0m     \u001b[39mnot\u001b[39;00m \u001b[39misinstance\u001b[39m(filepath_or_buffer, \u001b[39mstr\u001b[39m)\n\u001b[1;32m    929\u001b[0m     \u001b[39mor\u001b[39;00m is_url(filepath_or_buffer)\n\u001b[1;32m    930\u001b[0m     \u001b[39mor\u001b[39;00m is_fsspec_url(filepath_or_buffer)\n\u001b[1;32m    931\u001b[0m     \u001b[39mor\u001b[39;00m file_exists(filepath_or_buffer)\n\u001b[1;32m    932\u001b[0m ):\n\u001b[0;32m--> 933\u001b[0m     \u001b[39mself\u001b[39m\u001b[39m.\u001b[39mhandles \u001b[39m=\u001b[39m get_handle(\n\u001b[1;32m    934\u001b[0m         filepath_or_buffer,\n\u001b[1;32m    935\u001b[0m         \u001b[39m\"\u001b[39;49m\u001b[39mr\u001b[39;49m\u001b[39m\"\u001b[39;49m,\n\u001b[1;32m    936\u001b[0m         encoding\u001b[39m=\u001b[39;49m\u001b[39mself\u001b[39;49m\u001b[39m.\u001b[39;49mencoding,\n\u001b[1;32m    937\u001b[0m         compression\u001b[39m=\u001b[39;49m\u001b[39mself\u001b[39;49m\u001b[39m.\u001b[39;49mcompression,\n\u001b[1;32m    938\u001b[0m         storage_options\u001b[39m=\u001b[39;49m\u001b[39mself\u001b[39;49m\u001b[39m.\u001b[39;49mstorage_options,\n\u001b[1;32m    939\u001b[0m         errors\u001b[39m=\u001b[39;49m\u001b[39mself\u001b[39;49m\u001b[39m.\u001b[39;49mencoding_errors,\n\u001b[1;32m    940\u001b[0m     )\n\u001b[1;32m    941\u001b[0m     filepath_or_buffer \u001b[39m=\u001b[39m \u001b[39mself\u001b[39m\u001b[39m.\u001b[39mhandles\u001b[39m.\u001b[39mhandle\n\u001b[1;32m    942\u001b[0m \u001b[39melif\u001b[39;00m (\n\u001b[1;32m    943\u001b[0m     \u001b[39misinstance\u001b[39m(filepath_or_buffer, \u001b[39mstr\u001b[39m)\n\u001b[1;32m    944\u001b[0m     \u001b[39mand\u001b[39;00m filepath_or_buffer\u001b[39m.\u001b[39mlower()\u001b[39m.\u001b[39mendswith(\n\u001b[0;32m   (...)\u001b[0m\n\u001b[1;32m    947\u001b[0m     \u001b[39mand\u001b[39;00m \u001b[39mnot\u001b[39;00m file_exists(filepath_or_buffer)\n\u001b[1;32m    948\u001b[0m ):\n",
      "File \u001b[0;32m~/.local/lib/python3.10/site-packages/pandas/io/common.py:718\u001b[0m, in \u001b[0;36mget_handle\u001b[0;34m(path_or_buf, mode, encoding, compression, memory_map, is_text, errors, storage_options)\u001b[0m\n\u001b[1;32m    715\u001b[0m     codecs\u001b[39m.\u001b[39mlookup_error(errors)\n\u001b[1;32m    717\u001b[0m \u001b[39m# open URLs\u001b[39;00m\n\u001b[0;32m--> 718\u001b[0m ioargs \u001b[39m=\u001b[39m _get_filepath_or_buffer(\n\u001b[1;32m    719\u001b[0m     path_or_buf,\n\u001b[1;32m    720\u001b[0m     encoding\u001b[39m=\u001b[39;49mencoding,\n\u001b[1;32m    721\u001b[0m     compression\u001b[39m=\u001b[39;49mcompression,\n\u001b[1;32m    722\u001b[0m     mode\u001b[39m=\u001b[39;49mmode,\n\u001b[1;32m    723\u001b[0m     storage_options\u001b[39m=\u001b[39;49mstorage_options,\n\u001b[1;32m    724\u001b[0m )\n\u001b[1;32m    726\u001b[0m handle \u001b[39m=\u001b[39m ioargs\u001b[39m.\u001b[39mfilepath_or_buffer\n\u001b[1;32m    727\u001b[0m handles: \u001b[39mlist\u001b[39m[BaseBuffer]\n",
      "File \u001b[0;32m~/.local/lib/python3.10/site-packages/pandas/io/common.py:372\u001b[0m, in \u001b[0;36m_get_filepath_or_buffer\u001b[0;34m(filepath_or_buffer, encoding, compression, mode, storage_options)\u001b[0m\n\u001b[1;32m    370\u001b[0m \u001b[39m# assuming storage_options is to be interpreted as headers\u001b[39;00m\n\u001b[1;32m    371\u001b[0m req_info \u001b[39m=\u001b[39m urllib\u001b[39m.\u001b[39mrequest\u001b[39m.\u001b[39mRequest(filepath_or_buffer, headers\u001b[39m=\u001b[39mstorage_options)\n\u001b[0;32m--> 372\u001b[0m \u001b[39mwith\u001b[39;00m urlopen(req_info) \u001b[39mas\u001b[39;00m req:\n\u001b[1;32m    373\u001b[0m     content_encoding \u001b[39m=\u001b[39m req\u001b[39m.\u001b[39mheaders\u001b[39m.\u001b[39mget(\u001b[39m\"\u001b[39m\u001b[39mContent-Encoding\u001b[39m\u001b[39m\"\u001b[39m, \u001b[39mNone\u001b[39;00m)\n\u001b[1;32m    374\u001b[0m     \u001b[39mif\u001b[39;00m content_encoding \u001b[39m==\u001b[39m \u001b[39m\"\u001b[39m\u001b[39mgzip\u001b[39m\u001b[39m\"\u001b[39m:\n\u001b[1;32m    375\u001b[0m         \u001b[39m# Override compression based on Content-Encoding header\u001b[39;00m\n",
      "File \u001b[0;32m~/.local/lib/python3.10/site-packages/pandas/io/common.py:274\u001b[0m, in \u001b[0;36murlopen\u001b[0;34m(*args, **kwargs)\u001b[0m\n\u001b[1;32m    268\u001b[0m \u001b[39m\u001b[39m\u001b[39m\"\"\"\u001b[39;00m\n\u001b[1;32m    269\u001b[0m \u001b[39mLazy-import wrapper for stdlib urlopen, as that imports a big chunk of\u001b[39;00m\n\u001b[1;32m    270\u001b[0m \u001b[39mthe stdlib.\u001b[39;00m\n\u001b[1;32m    271\u001b[0m \u001b[39m\"\"\"\u001b[39;00m\n\u001b[1;32m    272\u001b[0m \u001b[39mimport\u001b[39;00m \u001b[39murllib\u001b[39;00m\u001b[39m.\u001b[39;00m\u001b[39mrequest\u001b[39;00m\n\u001b[0;32m--> 274\u001b[0m \u001b[39mreturn\u001b[39;00m urllib\u001b[39m.\u001b[39;49mrequest\u001b[39m.\u001b[39;49murlopen(\u001b[39m*\u001b[39;49margs, \u001b[39m*\u001b[39;49m\u001b[39m*\u001b[39;49mkwargs)\n",
      "File \u001b[0;32m/usr/lib/python3.10/urllib/request.py:216\u001b[0m, in \u001b[0;36murlopen\u001b[0;34m(url, data, timeout, cafile, capath, cadefault, context)\u001b[0m\n\u001b[1;32m    214\u001b[0m \u001b[39melse\u001b[39;00m:\n\u001b[1;32m    215\u001b[0m     opener \u001b[39m=\u001b[39m _opener\n\u001b[0;32m--> 216\u001b[0m \u001b[39mreturn\u001b[39;00m opener\u001b[39m.\u001b[39;49mopen(url, data, timeout)\n",
      "File \u001b[0;32m/usr/lib/python3.10/urllib/request.py:525\u001b[0m, in \u001b[0;36mOpenerDirector.open\u001b[0;34m(self, fullurl, data, timeout)\u001b[0m\n\u001b[1;32m    523\u001b[0m \u001b[39mfor\u001b[39;00m processor \u001b[39min\u001b[39;00m \u001b[39mself\u001b[39m\u001b[39m.\u001b[39mprocess_response\u001b[39m.\u001b[39mget(protocol, []):\n\u001b[1;32m    524\u001b[0m     meth \u001b[39m=\u001b[39m \u001b[39mgetattr\u001b[39m(processor, meth_name)\n\u001b[0;32m--> 525\u001b[0m     response \u001b[39m=\u001b[39m meth(req, response)\n\u001b[1;32m    527\u001b[0m \u001b[39mreturn\u001b[39;00m response\n",
      "File \u001b[0;32m/usr/lib/python3.10/urllib/request.py:634\u001b[0m, in \u001b[0;36mHTTPErrorProcessor.http_response\u001b[0;34m(self, request, response)\u001b[0m\n\u001b[1;32m    631\u001b[0m \u001b[39m# According to RFC 2616, \"2xx\" code indicates that the client's\u001b[39;00m\n\u001b[1;32m    632\u001b[0m \u001b[39m# request was successfully received, understood, and accepted.\u001b[39;00m\n\u001b[1;32m    633\u001b[0m \u001b[39mif\u001b[39;00m \u001b[39mnot\u001b[39;00m (\u001b[39m200\u001b[39m \u001b[39m<\u001b[39m\u001b[39m=\u001b[39m code \u001b[39m<\u001b[39m \u001b[39m300\u001b[39m):\n\u001b[0;32m--> 634\u001b[0m     response \u001b[39m=\u001b[39m \u001b[39mself\u001b[39;49m\u001b[39m.\u001b[39;49mparent\u001b[39m.\u001b[39;49merror(\n\u001b[1;32m    635\u001b[0m         \u001b[39m'\u001b[39;49m\u001b[39mhttp\u001b[39;49m\u001b[39m'\u001b[39;49m, request, response, code, msg, hdrs)\n\u001b[1;32m    637\u001b[0m \u001b[39mreturn\u001b[39;00m response\n",
      "File \u001b[0;32m/usr/lib/python3.10/urllib/request.py:563\u001b[0m, in \u001b[0;36mOpenerDirector.error\u001b[0;34m(self, proto, *args)\u001b[0m\n\u001b[1;32m    561\u001b[0m \u001b[39mif\u001b[39;00m http_err:\n\u001b[1;32m    562\u001b[0m     args \u001b[39m=\u001b[39m (\u001b[39mdict\u001b[39m, \u001b[39m'\u001b[39m\u001b[39mdefault\u001b[39m\u001b[39m'\u001b[39m, \u001b[39m'\u001b[39m\u001b[39mhttp_error_default\u001b[39m\u001b[39m'\u001b[39m) \u001b[39m+\u001b[39m orig_args\n\u001b[0;32m--> 563\u001b[0m     \u001b[39mreturn\u001b[39;00m \u001b[39mself\u001b[39;49m\u001b[39m.\u001b[39;49m_call_chain(\u001b[39m*\u001b[39;49margs)\n",
      "File \u001b[0;32m/usr/lib/python3.10/urllib/request.py:496\u001b[0m, in \u001b[0;36mOpenerDirector._call_chain\u001b[0;34m(self, chain, kind, meth_name, *args)\u001b[0m\n\u001b[1;32m    494\u001b[0m \u001b[39mfor\u001b[39;00m handler \u001b[39min\u001b[39;00m handlers:\n\u001b[1;32m    495\u001b[0m     func \u001b[39m=\u001b[39m \u001b[39mgetattr\u001b[39m(handler, meth_name)\n\u001b[0;32m--> 496\u001b[0m     result \u001b[39m=\u001b[39m func(\u001b[39m*\u001b[39;49margs)\n\u001b[1;32m    497\u001b[0m     \u001b[39mif\u001b[39;00m result \u001b[39mis\u001b[39;00m \u001b[39mnot\u001b[39;00m \u001b[39mNone\u001b[39;00m:\n\u001b[1;32m    498\u001b[0m         \u001b[39mreturn\u001b[39;00m result\n",
      "File \u001b[0;32m/usr/lib/python3.10/urllib/request.py:643\u001b[0m, in \u001b[0;36mHTTPDefaultErrorHandler.http_error_default\u001b[0;34m(self, req, fp, code, msg, hdrs)\u001b[0m\n\u001b[1;32m    642\u001b[0m \u001b[39mdef\u001b[39;00m \u001b[39mhttp_error_default\u001b[39m(\u001b[39mself\u001b[39m, req, fp, code, msg, hdrs):\n\u001b[0;32m--> 643\u001b[0m     \u001b[39mraise\u001b[39;00m HTTPError(req\u001b[39m.\u001b[39mfull_url, code, msg, hdrs, fp)\n",
      "\u001b[0;31mHTTPError\u001b[0m: HTTP Error 404: Not Found"
     ]
    }
   ],
   "source": [
    "import pandas as pd\n",
    "\n",
    "df = pd.read_json(\"https://github.com/unb-mds/2023-2-Squad03/raw/main/valores_licitacoes.zip\")\n",
    "print(df.shape)\n",
    "print(df.head())\n",
    "print(\"\\n## Total de municípios: \" + str(df[\"municipio\"].unique().size))\n"
   ]
  },
  {
   "cell_type": "code",
   "execution_count": 2,
   "metadata": {},
   "outputs": [
    {
     "name": "stdout",
     "output_type": "stream",
     "text": [
      "\n",
      "## Total de atos: 53102\n",
      "\n",
      "## Total de Atos por mês\n",
      "\n",
      "ano   mes\n",
      "2021  1      1649\n",
      "      2      1278\n",
      "      3      1693\n",
      "      4      1744\n",
      "      5      1717\n",
      "      6      1741\n",
      "      7      2185\n",
      "      8      2188\n",
      "      9      2223\n",
      "      10     1959\n",
      "      11     1906\n",
      "      12     2316\n",
      "2022  1      1786\n",
      "      2      2376\n",
      "      3      2937\n",
      "      4      2576\n",
      "      5      3068\n",
      "      6      3050\n",
      "      7      2787\n",
      "      8      3006\n",
      "      9      2455\n",
      "      10     1918\n",
      "      11     2215\n",
      "      12     2329\n",
      "Name: cod, dtype: int64\n"
     ]
    }
   ],
   "source": [
    "print(\"\\n## Total de atos: \" + df[\"cod\"].count().astype(str))\n",
    "\n",
    "print(\"\\n## Total de Atos por mês\\n\")\n",
    "print(df.groupby([\"ano\", \"mes\"])[\"cod\"].count())\n"
   ]
  },
  {
   "cell_type": "code",
   "execution_count": 3,
   "metadata": {},
   "outputs": [
    {
     "name": "stdout",
     "output_type": "stream",
     "text": [
      "\n",
      "## Média de Atos dos município mês\n",
      "\n",
      "ano   mes\n",
      "2021  1      26.174603\n",
      "      2      17.750000\n",
      "      3      20.901235\n",
      "      4      21.268293\n",
      "      5      20.939024\n",
      "      6      21.231707\n",
      "      7      26.325301\n",
      "      8      25.149425\n",
      "      9      26.464286\n",
      "      10     23.047059\n",
      "      11     22.423529\n",
      "      12     27.903614\n",
      "2022  1      21.780488\n",
      "      2      28.285714\n",
      "      3      34.151163\n",
      "      4      31.414634\n",
      "      5      35.264368\n",
      "      6      35.465116\n",
      "      7      32.406977\n",
      "      8      35.364706\n",
      "      9      27.897727\n",
      "      10     22.045977\n",
      "      11     26.369048\n",
      "      12     27.400000\n",
      "Name: cod, dtype: float64\n"
     ]
    }
   ],
   "source": [
    "print(\"\\n## Média de Atos dos município mês\\n\")\n",
    "print(df.groupby([\"ano\", \"mes\"])[[\"cod\", \"municipio\"]].apply(\n",
    "    lambda x: x.count() / x[\"municipio\"].unique().size)[\"cod\"])\n"
   ]
  },
  {
   "cell_type": "code",
   "execution_count": 4,
   "metadata": {},
   "outputs": [
    {
     "name": "stdout",
     "output_type": "stream",
     "text": [
      "\n",
      "## Top 10 Municípios com maior número de atos\n",
      "\n",
      "municipio\n",
      "marechal-deodoro      4204\n",
      "delmiro-gouveia       3091\n",
      "arapiraca             2874\n",
      "teotonio-vilela       2722\n",
      "rio-largo             2390\n",
      "campo-alegre          2231\n",
      "maragogi              2095\n",
      "pilar                 1595\n",
      "junqueiro             1249\n",
      "sao-jose-da-tapera    1206\n",
      "Name: cod, dtype: int64\n"
     ]
    }
   ],
   "source": [
    "print(\"\\n## Top 10 Municípios com maior número de atos\\n\")\n",
    "print(df.groupby([\"municipio\"])[\"cod\"].count().sort_values(ascending=False).head(10))\n"
   ]
  },
  {
   "cell_type": "code",
   "execution_count": 5,
   "metadata": {},
   "outputs": [
    {
     "name": "stdout",
     "output_type": "stream",
     "text": [
      "\n",
      "## Total de nomeações: 4965\n",
      "\n",
      "## Nomeações por mês\n",
      "\n",
      "ano   mes\n",
      "2021  1      768\n",
      "      2      242\n",
      "      3      193\n",
      "      4      376\n",
      "      5       93\n",
      "      6       67\n",
      "      7       54\n",
      "      8       87\n",
      "      9      425\n",
      "      10      99\n",
      "      11      49\n",
      "      12      53\n",
      "2022  1      108\n",
      "      2      215\n",
      "      3      593\n",
      "      4      293\n",
      "      5      141\n",
      "      6      406\n",
      "      7      182\n",
      "      8      124\n",
      "      9      168\n",
      "      10      79\n",
      "      11      59\n",
      "      12      91\n",
      "Name: num_nomeacoes, dtype: int64\n"
     ]
    }
   ],
   "source": [
    "print(\"\\n## Total de nomeações: \" + df[\"num_nomeacoes\"].sum().astype(str))\n",
    "\n",
    "print(\"\\n## Nomeações por mês\\n\")\n",
    "print(df.groupby([\"ano\", \"mes\"])[\"num_nomeacoes\"].sum())"
   ]
  },
  {
   "cell_type": "code",
   "execution_count": 6,
   "metadata": {},
   "outputs": [
    {
     "name": "stdout",
     "output_type": "stream",
     "text": [
      "\n",
      "## Média de Nomeações dos município por mês\n",
      "\n",
      "ano   mes\n",
      "2021  1      12.190476\n",
      "      2       3.361111\n",
      "      3       2.382716\n",
      "      4       4.585366\n",
      "      5       1.134146\n",
      "      6       0.817073\n",
      "      7       0.650602\n",
      "      8       1.000000\n",
      "      9       5.059524\n",
      "      10      1.164706\n",
      "      11      0.576471\n",
      "      12      0.638554\n",
      "2022  1       1.317073\n",
      "      2       2.559524\n",
      "      3       6.895349\n",
      "      4       3.573171\n",
      "      5       1.620690\n",
      "      6       4.720930\n",
      "      7       2.116279\n",
      "      8       1.458824\n",
      "      9       1.909091\n",
      "      10      0.908046\n",
      "      11      0.702381\n",
      "      12      1.070588\n",
      "dtype: float64\n"
     ]
    }
   ],
   "source": [
    "print(\"\\n## Média de Nomeações dos município por mês\\n\")\n",
    "print(df.groupby([\"ano\", \"mes\"])[[\"municipio\", \"num_nomeacoes\"]].apply(\n",
    "    lambda x: x[\"num_nomeacoes\"].sum() / x[\"municipio\"].unique().size))"
   ]
  },
  {
   "cell_type": "code",
   "execution_count": 7,
   "metadata": {},
   "outputs": [
    {
     "name": "stdout",
     "output_type": "stream",
     "text": [
      "\n",
      "## Top 10 Municípios com maior número de nomeações\n",
      "\n",
      "municipio\n",
      "maragogi            792\n",
      "marechal-deodoro    515\n",
      "delmiro-gouveia     459\n",
      "teotonio-vilela     367\n",
      "mata-grande         283\n",
      "rio-largo           226\n",
      "piranhas            204\n",
      "junqueiro           190\n",
      "arapiraca           154\n",
      "inhapi              131\n",
      "Name: num_nomeacoes, dtype: int64\n"
     ]
    }
   ],
   "source": [
    "print(\"\\n## Top 10 Municípios com maior número de nomeações\\n\")\n",
    "print(df.groupby([\"municipio\"])[\"num_nomeacoes\"].sum(\n",
    ").sort_values(ascending=False).head(10))"
   ]
  },
  {
   "cell_type": "code",
   "execution_count": 8,
   "metadata": {},
   "outputs": [
    {
     "name": "stdout",
     "output_type": "stream",
     "text": [
      "\n",
      "## Total de exonerações: 757\n",
      "\n",
      "## Exonerações por mês\n",
      "\n",
      "ano   mes\n",
      "2021  1      14\n",
      "      2       8\n",
      "      3      29\n",
      "      4      45\n",
      "      5      15\n",
      "      6      14\n",
      "      7      15\n",
      "      8      12\n",
      "      9      67\n",
      "      10     26\n",
      "      11     13\n",
      "      12     14\n",
      "2022  1      14\n",
      "      2      61\n",
      "      3      39\n",
      "      4      44\n",
      "      5      42\n",
      "      6      36\n",
      "      7      95\n",
      "      8      30\n",
      "      9      33\n",
      "      10     34\n",
      "      11     23\n",
      "      12     34\n",
      "Name: num_exoneracoes, dtype: int64\n"
     ]
    }
   ],
   "source": [
    "print(\"\\n## Total de exonerações: \" + df[\"num_exoneracoes\"].sum().astype(str))\n",
    "\n",
    "print(\"\\n## Exonerações por mês\\n\")\n",
    "print(df.groupby([\"ano\", \"mes\"])[\"num_exoneracoes\"].sum())"
   ]
  },
  {
   "cell_type": "code",
   "execution_count": 9,
   "metadata": {},
   "outputs": [
    {
     "name": "stdout",
     "output_type": "stream",
     "text": [
      "\n",
      "## Média de Exonerações dos município por mês\n",
      "\n",
      "ano   mes\n",
      "2021  1      0.222222\n",
      "      2      0.111111\n",
      "      3      0.358025\n",
      "      4      0.548780\n",
      "      5      0.182927\n",
      "      6      0.170732\n",
      "      7      0.180723\n",
      "      8      0.137931\n",
      "      9      0.797619\n",
      "      10     0.305882\n",
      "      11     0.152941\n",
      "      12     0.168675\n",
      "2022  1      0.170732\n",
      "      2      0.726190\n",
      "      3      0.453488\n",
      "      4      0.536585\n",
      "      5      0.482759\n",
      "      6      0.418605\n",
      "      7      1.104651\n",
      "      8      0.352941\n",
      "      9      0.375000\n",
      "      10     0.390805\n",
      "      11     0.273810\n",
      "      12     0.400000\n",
      "dtype: float64\n"
     ]
    }
   ],
   "source": [
    "print(\"\\n## Média de Exonerações dos município por mês\\n\")\n",
    "print(df.groupby([\"ano\", \"mes\"])[[\"municipio\", \"num_exoneracoes\"]].apply(\n",
    "    lambda x: x[\"num_exoneracoes\"].sum() / x[\"municipio\"].unique().size))"
   ]
  },
  {
   "cell_type": "code",
   "execution_count": 10,
   "metadata": {},
   "outputs": [
    {
     "name": "stdout",
     "output_type": "stream",
     "text": [
      "\n",
      "## Top 10 Municípios com maior número de exonerações\n",
      "\n",
      "municipio\n",
      "maragogi              136\n",
      "delmiro-gouveia       122\n",
      "rio-largo              65\n",
      "minador-do-negrao      58\n",
      "marechal-deodoro       51\n",
      "inhapi                 38\n",
      "pilar                  26\n",
      "piranhas               21\n",
      "pao-de-acucar          21\n",
      "sao-jose-da-tapera     21\n",
      "Name: num_exoneracoes, dtype: int64\n"
     ]
    }
   ],
   "source": [
    "print(\"\\n## Top 10 Municípios com maior número de exonerações\\n\")\n",
    "print(df.groupby([\"municipio\"])[\"num_exoneracoes\"].sum().sort_values(ascending=False).head(10))"
   ]
  }
 ],
 "metadata": {
  "kernelspec": {
   "display_name": "Python 3",
   "language": "python",
   "name": "python3"
  },
  "language_info": {
   "codemirror_mode": {
    "name": "ipython",
    "version": 3
   },
   "file_extension": ".py",
   "mimetype": "text/x-python",
   "name": "python",
   "nbconvert_exporter": "python",
   "pygments_lexer": "ipython3",
   "version": "3.10.12"
  },
  "orig_nbformat": 4,
  "vscode": {
   "interpreter": {
    "hash": "aee8b7b246df8f9039afb4144a1f6fd8d2ca17a180786b69acc140d282b71a49"
   }
  }
 },
 "nbformat": 4,
 "nbformat_minor": 2
}
