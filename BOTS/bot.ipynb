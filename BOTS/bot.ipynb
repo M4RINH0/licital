{
 "cells": [
  {
   "cell_type": "code",
   "execution_count": 1,
   "metadata": {},
   "outputs": [
    {
     "name": "stdout",
     "output_type": "stream",
     "text": [
      "Collecting selenium\n",
      "  Using cached selenium-4.13.0-py3-none-any.whl (9.5 MB)\n",
      "Collecting urllib3[socks]<3,>=1.26\n",
      "  Using cached urllib3-2.0.5-py3-none-any.whl (123 kB)\n",
      "Collecting trio~=0.17\n",
      "  Using cached trio-0.22.2-py3-none-any.whl (400 kB)\n",
      "Collecting certifi>=2021.10.8\n",
      "  Using cached certifi-2023.7.22-py3-none-any.whl (158 kB)\n",
      "Collecting trio-websocket~=0.9\n",
      "  Using cached trio_websocket-0.11.1-py3-none-any.whl (17 kB)\n",
      "Collecting cffi>=1.14\n",
      "  Downloading cffi-1.16.0-cp39-cp39-win_amd64.whl (181 kB)\n",
      "     -------------------------------------- 181.6/181.6 KB 1.8 MB/s eta 0:00:00\n",
      "Requirement already satisfied: exceptiongroup>=1.0.0rc9 in c:\\users\\mtuli\\appdata\\roaming\\python\\python39\\site-packages (from trio~=0.17->selenium) (1.1.3)\n",
      "Collecting attrs>=20.1.0\n",
      "  Using cached attrs-23.1.0-py3-none-any.whl (61 kB)\n",
      "Collecting sniffio\n",
      "  Using cached sniffio-1.3.0-py3-none-any.whl (10 kB)\n",
      "Collecting outcome\n",
      "  Using cached outcome-1.2.0-py2.py3-none-any.whl (9.7 kB)\n",
      "Collecting idna\n",
      "  Using cached idna-3.4-py3-none-any.whl (61 kB)\n",
      "Collecting sortedcontainers\n",
      "  Using cached sortedcontainers-2.4.0-py2.py3-none-any.whl (29 kB)\n",
      "Collecting wsproto>=0.14\n",
      "  Using cached wsproto-1.2.0-py3-none-any.whl (24 kB)\n",
      "Collecting pysocks!=1.5.7,<2.0,>=1.5.6\n",
      "  Using cached PySocks-1.7.1-py3-none-any.whl (16 kB)\n",
      "Collecting pycparser\n",
      "  Using cached pycparser-2.21-py2.py3-none-any.whl (118 kB)\n",
      "Collecting h11<1,>=0.9.0\n",
      "  Using cached h11-0.14.0-py3-none-any.whl (58 kB)\n",
      "Installing collected packages: sortedcontainers, urllib3, sniffio, pysocks, pycparser, idna, h11, certifi, attrs, wsproto, outcome, cffi, trio, trio-websocket, selenium\n",
      "Successfully installed attrs-23.1.0 certifi-2023.7.22 cffi-1.16.0 h11-0.14.0 idna-3.4 outcome-1.2.0 pycparser-2.21 pysocks-1.7.1 selenium-4.13.0 sniffio-1.3.0 sortedcontainers-2.4.0 trio-0.22.2 trio-websocket-0.11.1 urllib3-2.0.5 wsproto-1.2.0\n",
      "Note: you may need to restart the kernel to use updated packages.\n"
     ]
    },
    {
     "name": "stderr",
     "output_type": "stream",
     "text": [
      "WARNING: You are using pip version 22.0.4; however, version 23.2.1 is available.\n",
      "You should consider upgrading via the 'c:\\Users\\mtuli\\AppData\\Local\\Programs\\Python\\Python39\\python.exe -m pip install --upgrade pip' command.\n"
     ]
    }
   ],
   "source": [
    "pip install selenium\n"
   ]
  },
  {
   "cell_type": "code",
   "execution_count": 2,
   "metadata": {},
   "outputs": [
    {
     "name": "stdout",
     "output_type": "stream",
     "text": [
      "Collecting PyDrive\n",
      "  Using cached PyDrive-1.3.1.tar.gz (987 kB)\n",
      "  Preparing metadata (setup.py): started\n",
      "  Preparing metadata (setup.py): finished with status 'done'\n",
      "Collecting google-api-python-client>=1.2\n",
      "  Using cached google_api_python_client-2.101.0-py2.py3-none-any.whl (12.3 MB)\n",
      "Collecting oauth2client>=4.0.0\n",
      "  Using cached oauth2client-4.1.3-py2.py3-none-any.whl (98 kB)\n",
      "Collecting PyYAML>=3.0\n",
      "  Downloading PyYAML-6.0.1-cp39-cp39-win_amd64.whl (152 kB)\n",
      "     -------------------------------------- 152.8/152.8 KB 3.0 MB/s eta 0:00:00\n",
      "Collecting httplib2<1.dev0,>=0.15.0\n",
      "  Using cached httplib2-0.22.0-py3-none-any.whl (96 kB)\n",
      "Collecting google-api-core!=2.0.*,!=2.1.*,!=2.2.*,!=2.3.0,<3.0.0.dev0,>=1.31.5\n",
      "  Using cached google_api_core-2.12.0-py3-none-any.whl (121 kB)\n",
      "Collecting google-auth-httplib2>=0.1.0\n",
      "  Using cached google_auth_httplib2-0.1.1-py2.py3-none-any.whl (9.3 kB)\n",
      "Collecting google-auth<3.0.0.dev0,>=1.19.0\n",
      "  Using cached google_auth-2.23.2-py2.py3-none-any.whl (181 kB)\n",
      "Collecting uritemplate<5,>=3.0.1\n",
      "  Using cached uritemplate-4.1.1-py2.py3-none-any.whl (10 kB)\n",
      "Collecting pyasn1>=0.1.7\n",
      "  Using cached pyasn1-0.5.0-py2.py3-none-any.whl (83 kB)\n",
      "Collecting pyasn1-modules>=0.0.5\n",
      "  Using cached pyasn1_modules-0.3.0-py2.py3-none-any.whl (181 kB)\n",
      "Collecting rsa>=3.1.4\n",
      "  Using cached rsa-4.9-py3-none-any.whl (34 kB)\n",
      "Requirement already satisfied: six>=1.6.1 in c:\\users\\mtuli\\appdata\\roaming\\python\\python39\\site-packages (from oauth2client>=4.0.0->PyDrive) (1.16.0)\n",
      "Collecting requests<3.0.0.dev0,>=2.18.0\n",
      "  Using cached requests-2.31.0-py3-none-any.whl (62 kB)\n",
      "Collecting googleapis-common-protos<2.0.dev0,>=1.56.2\n",
      "  Using cached googleapis_common_protos-1.60.0-py2.py3-none-any.whl (227 kB)\n",
      "Collecting protobuf!=3.20.0,!=3.20.1,!=4.21.0,!=4.21.1,!=4.21.2,!=4.21.3,!=4.21.4,!=4.21.5,<5.0.0.dev0,>=3.19.5\n",
      "  Downloading protobuf-4.24.3-cp39-cp39-win_amd64.whl (430 kB)\n",
      "     ------------------------------------- 430.5/430.5 KB 13.6 MB/s eta 0:00:00\n",
      "Collecting cachetools<6.0,>=2.0.0\n",
      "  Using cached cachetools-5.3.1-py3-none-any.whl (9.3 kB)\n",
      "Collecting pyparsing!=3.0.0,!=3.0.1,!=3.0.2,!=3.0.3,<4,>=2.4.2\n",
      "  Using cached pyparsing-3.1.1-py3-none-any.whl (103 kB)\n",
      "Requirement already satisfied: certifi>=2017.4.17 in c:\\users\\mtuli\\appdata\\local\\programs\\python\\python39\\lib\\site-packages (from requests<3.0.0.dev0,>=2.18.0->google-api-core!=2.0.*,!=2.1.*,!=2.2.*,!=2.3.0,<3.0.0.dev0,>=1.31.5->google-api-python-client>=1.2->PyDrive) (2023.7.22)\n",
      "Requirement already satisfied: urllib3<3,>=1.21.1 in c:\\users\\mtuli\\appdata\\local\\programs\\python\\python39\\lib\\site-packages (from requests<3.0.0.dev0,>=2.18.0->google-api-core!=2.0.*,!=2.1.*,!=2.2.*,!=2.3.0,<3.0.0.dev0,>=1.31.5->google-api-python-client>=1.2->PyDrive) (2.0.5)\n",
      "Collecting charset-normalizer<4,>=2\n",
      "  Downloading charset_normalizer-3.3.0-cp39-cp39-win_amd64.whl (98 kB)\n",
      "     ---------------------------------------- 98.2/98.2 KB ? eta 0:00:00\n",
      "Requirement already satisfied: idna<4,>=2.5 in c:\\users\\mtuli\\appdata\\local\\programs\\python\\python39\\lib\\site-packages (from requests<3.0.0.dev0,>=2.18.0->google-api-core!=2.0.*,!=2.1.*,!=2.2.*,!=2.3.0,<3.0.0.dev0,>=1.31.5->google-api-python-client>=1.2->PyDrive) (3.4)\n",
      "Using legacy 'setup.py install' for PyDrive, since package 'wheel' is not installed.\n",
      "Installing collected packages: uritemplate, PyYAML, pyparsing, pyasn1, protobuf, charset-normalizer, cachetools, rsa, requests, pyasn1-modules, httplib2, googleapis-common-protos, oauth2client, google-auth, google-auth-httplib2, google-api-core, google-api-python-client, PyDrive\n",
      "  Running setup.py install for PyDrive: started\n",
      "  Running setup.py install for PyDrive: finished with status 'done'\n",
      "Successfully installed PyDrive-1.3.1 PyYAML-6.0.1 cachetools-5.3.1 charset-normalizer-3.3.0 google-api-core-2.12.0 google-api-python-client-2.101.0 google-auth-2.23.2 google-auth-httplib2-0.1.1 googleapis-common-protos-1.60.0 httplib2-0.22.0 oauth2client-4.1.3 protobuf-4.24.3 pyasn1-0.5.0 pyasn1-modules-0.3.0 pyparsing-3.1.1 requests-2.31.0 rsa-4.9 uritemplate-4.1.1\n",
      "Note: you may need to restart the kernel to use updated packages.\n"
     ]
    },
    {
     "name": "stderr",
     "output_type": "stream",
     "text": [
      "  WARNING: The script normalizer.exe is installed in 'c:\\Users\\mtuli\\AppData\\Local\\Programs\\Python\\Python39\\Scripts' which is not on PATH.\n",
      "  Consider adding this directory to PATH or, if you prefer to suppress this warning, use --no-warn-script-location.\n",
      "  WARNING: The scripts pyrsa-decrypt.exe, pyrsa-encrypt.exe, pyrsa-keygen.exe, pyrsa-priv2pub.exe, pyrsa-sign.exe and pyrsa-verify.exe are installed in 'c:\\Users\\mtuli\\AppData\\Local\\Programs\\Python\\Python39\\Scripts' which is not on PATH.\n",
      "  Consider adding this directory to PATH or, if you prefer to suppress this warning, use --no-warn-script-location.\n",
      "WARNING: You are using pip version 22.0.4; however, version 23.2.1 is available.\n",
      "You should consider upgrading via the 'c:\\Users\\mtuli\\AppData\\Local\\Programs\\Python\\Python39\\python.exe -m pip install --upgrade pip' command.\n"
     ]
    }
   ],
   "source": [
    "pip install PyDrive"
   ]
  },
  {
   "cell_type": "code",
   "execution_count": null,
   "metadata": {},
   "outputs": [],
   "source": []
  },
  {
   "cell_type": "code",
   "execution_count": 3,
   "metadata": {},
   "outputs": [
    {
     "name": "stdout",
     "output_type": "stream",
     "text": [
      "Collecting webdriver-manager\n",
      "  Using cached webdriver_manager-4.0.1-py2.py3-none-any.whl (27 kB)\n",
      "Collecting python-dotenv\n",
      "  Using cached python_dotenv-1.0.0-py3-none-any.whl (19 kB)\n",
      "Requirement already satisfied: packaging in c:\\users\\mtuli\\appdata\\roaming\\python\\python39\\site-packages (from webdriver-manager) (23.2)\n",
      "Requirement already satisfied: requests in c:\\users\\mtuli\\appdata\\local\\programs\\python\\python39\\lib\\site-packages (from webdriver-manager) (2.31.0)\n",
      "Requirement already satisfied: certifi>=2017.4.17 in c:\\users\\mtuli\\appdata\\local\\programs\\python\\python39\\lib\\site-packages (from requests->webdriver-manager) (2023.7.22)\n",
      "Requirement already satisfied: idna<4,>=2.5 in c:\\users\\mtuli\\appdata\\local\\programs\\python\\python39\\lib\\site-packages (from requests->webdriver-manager) (3.4)\n",
      "Requirement already satisfied: urllib3<3,>=1.21.1 in c:\\users\\mtuli\\appdata\\local\\programs\\python\\python39\\lib\\site-packages (from requests->webdriver-manager) (2.0.5)\n",
      "Requirement already satisfied: charset-normalizer<4,>=2 in c:\\users\\mtuli\\appdata\\local\\programs\\python\\python39\\lib\\site-packages (from requests->webdriver-manager) (3.3.0)\n",
      "Installing collected packages: python-dotenv, webdriver-manager\n",
      "Successfully installed python-dotenv-1.0.0 webdriver-manager-4.0.1\n",
      "Note: you may need to restart the kernel to use updated packages.\n"
     ]
    },
    {
     "name": "stderr",
     "output_type": "stream",
     "text": [
      "  WARNING: The script dotenv.exe is installed in 'c:\\Users\\mtuli\\AppData\\Local\\Programs\\Python\\Python39\\Scripts' which is not on PATH.\n",
      "  Consider adding this directory to PATH or, if you prefer to suppress this warning, use --no-warn-script-location.\n",
      "WARNING: You are using pip version 22.0.4; however, version 23.2.1 is available.\n",
      "You should consider upgrading via the 'c:\\Users\\mtuli\\AppData\\Local\\Programs\\Python\\Python39\\python.exe -m pip install --upgrade pip' command.\n"
     ]
    }
   ],
   "source": [
    "pip install webdriver-manager"
   ]
  },
  {
   "cell_type": "code",
   "execution_count": 4,
   "metadata": {},
   "outputs": [
    {
     "name": "stdout",
     "output_type": "stream",
     "text": [
      "Arquivo today.pdf foi enviado para o Google Drive com sucesso.\n"
     ]
    }
   ],
   "source": [
    "\n",
    "import os\n",
    "import time\n",
    "import shutil\n",
    "from selenium import webdriver\n",
    "from selenium.webdriver.chrome.service import Service as ChromeService\n",
    "from webdriver_manager.chrome import ChromeDriverManager\n",
    "from selenium.webdriver.common.by import By\n",
    "from selenium.webdriver.chrome.options import Options\n",
    "from selenium.webdriver.support.ui import WebDriverWait\n",
    "from selenium.webdriver.support import expected_conditions as EC\n",
    "from pydrive.auth import GoogleAuth\n",
    "from pydrive.drive import GoogleDrive\n",
    "\n",
    "# Obtenha o diretório atual do script Python\n",
    "script_dir = os.getcwd()\n",
    "\n",
    "# Configure as opções do Chrome para o modo headless\n",
    "chrome_options = Options()\n",
    "chrome_options.add_argument(\"--headless\")\n",
    "chrome_options.add_argument(\"--disable-gpu\")\n",
    "\n",
    "# Configurar o diretório de download para um local específico\n",
    "download_dir = os.path.join(script_dir, 'diarios')  # Diretório de download relativo ao diretório do script\n",
    "shutil.rmtree(download_dir, ignore_errors=True)\n",
    "os.makedirs(download_dir)\n",
    "prefs = {'download.default_directory': download_dir}\n",
    "chrome_options.add_experimental_option('prefs', prefs)\n",
    "\n",
    "# Configurar o serviço do ChromeDriver\n",
    "chrome_service = ChromeService(ChromeDriverManager().install())\n",
    "\n",
    "# Inicializar o navegador Chrome\n",
    "nav = webdriver.Chrome(service=chrome_service, options=chrome_options)\n",
    "nav.get(\"https://www.diariomunicipal.com.br/ama/\")\n",
    "\n",
    "# Interagir com o site para fazer o download\n",
    "nav.find_element(By.CLASS_NAME, \"selected\").click()\n",
    "elemento = WebDriverWait(nav, 10).until(EC.visibility_of_element_located((By.XPATH, '//*[@id=\"btDownloadSimples2\"]')))\n",
    "\n",
    "# Obter o nome original do arquivo da URL\n",
    "url = elemento.get_attribute(\"href\")\n",
    "nome_original = url.split(\"publicado_\")[-1]\n",
    "nome_original = \"publicado_\" + nome_original\n",
    "\n",
    "# Caminho local completo para o arquivo baixado\n",
    "caminho_local_download = os.path.join(download_dir, nome_original)\n",
    "\n",
    "# Clicar para iniciar o download\n",
    "elemento.click()\n",
    "\n",
    "# Esperar até que o arquivo seja completamente baixado\n",
    "while not os.path.exists(caminho_local_download):\n",
    "    time.sleep(1)\n",
    "\n",
    "# Configurar autenticação automática com o Google Drive usando OAuth2\n",
    "gauth = GoogleAuth()\n",
    "#gauth.LocalWebserverAuth()\n",
    "drive = GoogleDrive(gauth)\n",
    "\n",
    "# Verificar se o arquivo \"today\" antigo existe no Google Drive e excluí-lo\n",
    "file_list = drive.ListFile({'q': \"title = 'today.pdf'\"}).GetList()\n",
    "if file_list:\n",
    "    old_file = file_list[0]\n",
    "    old_file.Delete()  # Excluir o arquivo antigo\n",
    "\n",
    "# Verificar se o arquivo existe antes de fazer upload\n",
    "if os.path.exists(caminho_local_download):\n",
    "    # Fazer upload do arquivo renomeado para o Google Drive\n",
    "    arquivo = drive.CreateFile({'title': 'today.pdf'})  # Nome do arquivo no Google Drive\n",
    "    arquivo.SetContentFile(caminho_local_download)  # Especifique o caminho local do arquivo a ser enviado\n",
    "    arquivo.Upload()\n",
    "    print(f'Arquivo {arquivo[\"title\"]} foi enviado para o Google Drive com sucesso.')\n",
    "else:\n",
    "    print(f'O arquivo {nome_original} não foi encontrado no caminho especificado.')\n",
    "\n",
    "# Fechar o navegador após o download e envio do arquivo\n",
    "nav.quit()\n"
   ]
  },
  {
   "cell_type": "code",
   "execution_count": 5,
   "metadata": {},
   "outputs": [
    {
     "name": "stdout",
     "output_type": "stream",
     "text": [
      "Arquivo 'today.pdf' baixado com sucesso!\n"
     ]
    }
   ],
   "source": [
    "from pydrive.auth import GoogleAuth\n",
    "from pydrive.drive import GoogleDrive\n",
    "\n",
    "gauth = GoogleAuth()\n",
    "#gauth.LocalWebserverAuth()\n",
    "drive = GoogleDrive(gauth)\n",
    "# Nome do arquivo que você deseja encontrar\n",
    "nome_do_arquivo = \"today.pdf\"\n",
    "\n",
    "# Lista todos os arquivos na sua conta do Google Drive\n",
    "arquivos = drive.ListFile({'q': \"trashed=false\"}).GetList()\n",
    "\n",
    "# Itera pela lista de arquivos e verifica se o nome corresponde ao que você procura\n",
    "arquivo_encontrado = None\n",
    "for arquivo in arquivos:\n",
    "    if arquivo['title'] == nome_do_arquivo:\n",
    "        arquivo_encontrado = arquivo\n",
    "        break\n",
    "\n",
    "# Verifica se o arquivo foi encontrado\n",
    "if arquivo_encontrado:\n",
    "    # Baixa o arquivo\n",
    "    arquivo_encontrado.GetContentFile(arquivo_encontrado['title'])\n",
    "    print(f\"Arquivo '{nome_do_arquivo}' baixado com sucesso!\")\n",
    "else:\n",
    "    print(f\"Arquivo '{nome_do_arquivo}' não encontrado no Google Drive.\")"
   ]
  },
  {
   "cell_type": "code",
   "execution_count": 6,
   "metadata": {},
   "outputs": [
    {
     "name": "stdout",
     "output_type": "stream",
     "text": [
      "Collecting PyMuPDF\n",
      "  Downloading PyMuPDF-1.23.4-cp39-none-win_amd64.whl (3.5 MB)\n",
      "     ---------------------------------------- 3.5/3.5 MB 17.0 MB/s eta 0:00:00\n",
      "Collecting PyMuPDFb==1.23.3\n",
      "  Using cached PyMuPDFb-1.23.3-py3-none-win_amd64.whl (24.4 MB)\n",
      "Installing collected packages: PyMuPDFb, PyMuPDF\n",
      "Successfully installed PyMuPDF-1.23.4 PyMuPDFb-1.23.3\n",
      "Note: you may need to restart the kernel to use updated packages.\n"
     ]
    },
    {
     "name": "stderr",
     "output_type": "stream",
     "text": [
      "WARNING: You are using pip version 22.0.4; however, version 23.2.1 is available.\n",
      "You should consider upgrading via the 'c:\\Users\\mtuli\\AppData\\Local\\Programs\\Python\\Python39\\python.exe -m pip install --upgrade pip' command.\n"
     ]
    }
   ],
   "source": [
    "pip install PyMuPDF"
   ]
  },
  {
   "cell_type": "code",
   "execution_count": 9,
   "metadata": {},
   "outputs": [
    {
     "name": "stdout",
     "output_type": "stream",
     "text": [
      "Texto do PDF foi salvo em 'ola.txt' com sucesso!\n"
     ]
    }
   ],
   "source": [
    " import fitz\n",
    "import os\n",
    "\n",
    "# Nome do arquivo PDF de entrada\n",
    "pdf_file = \"today.pdf\"\n",
    "\n",
    "# Nome do arquivo de saída TXT\n",
    "txt_file = \"ola.txt\"\n",
    "\n",
    "# Abra o arquivo PDF\n",
    "with fitz.open(\"today.pdf\") as doc:\n",
    "    text = \"\"\n",
    "    for page in doc:\n",
    "        text += page.get_text()\n",
    "\n",
    "# Abra o arquivo TXT para escrita, especificando a codificação \"utf-8\"\n",
    "with open(txt_file, \"w\", encoding=\"utf-8\") as txt:\n",
    "    txt.write(text)\n",
    "\n",
    "print(f\"Texto do PDF foi salvo em '{txt_file}' com sucesso!\") "
   ]
  },
  {
   "cell_type": "code",
   "execution_count": 10,
   "metadata": {},
   "outputs": [
    {
     "data": {
      "text/plain": [
       "['Água Branca',\n",
       " 'Anadia',\n",
       " 'Arapiraca',\n",
       " 'Atalaia',\n",
       " 'Barra de Santo Antônio',\n",
       " 'Barra de São Miguel',\n",
       " 'Batalha',\n",
       " 'Belém',\n",
       " 'Belo Monte',\n",
       " 'Boca da Mata',\n",
       " 'Branquinha',\n",
       " 'Cacimbinhas',\n",
       " 'Cajueiro',\n",
       " 'Campestre',\n",
       " 'Campo Alegre',\n",
       " 'Campo Grande',\n",
       " 'Canapi',\n",
       " 'Capela',\n",
       " 'Carneiros',\n",
       " 'Chã Preta',\n",
       " 'Coité do Noia',\n",
       " 'Colônia Leopoldina',\n",
       " 'Coqueiro Seco',\n",
       " 'Coruripe',\n",
       " 'Craíbas',\n",
       " 'Delmiro Gouveia',\n",
       " 'Dois Riachos',\n",
       " 'Estrela de Alagoas',\n",
       " 'Feira Grande',\n",
       " 'Feliz Deserto',\n",
       " 'Flexeiras',\n",
       " 'Girau do Ponciano',\n",
       " 'Ibateguara',\n",
       " 'Igaci',\n",
       " 'Igreja Nova',\n",
       " 'Inhapi',\n",
       " 'Jacaré dos Homens',\n",
       " 'Jacuípe',\n",
       " 'Japaratinga',\n",
       " 'Jaramataia',\n",
       " 'Jequiá da Praia',\n",
       " 'Joaquim Gomes',\n",
       " 'Jundiá',\n",
       " 'Junqueiro',\n",
       " 'Lagoa da Canoa',\n",
       " 'Limoeiro de Anadia',\n",
       " 'Maceió',\n",
       " 'Major Izidoro;Mar Vermelho',\n",
       " 'Maragogi',\n",
       " 'Maravilha',\n",
       " 'Marechal Deodoro',\n",
       " 'Maribondo',\n",
       " 'Mata Grande',\n",
       " 'Matriz de Camaragibe',\n",
       " 'Messias',\n",
       " 'Minador do Negrão',\n",
       " 'Monteirópolis',\n",
       " 'Murici',\n",
       " 'Novo Lino',\n",
       " \"Olho d'Água das Flores\",\n",
       " \"Olho d'Água do Casado\",\n",
       " \"Olho d'Água Grande\",\n",
       " 'Olivença',\n",
       " 'Ouro Branco',\n",
       " 'Palestina',\n",
       " 'Palmeira dos Índios',\n",
       " 'Pão de Açúcar',\n",
       " 'Pariconha',\n",
       " 'Paripueira',\n",
       " 'Passo de Camaragibe',\n",
       " 'Paulo Jacinto',\n",
       " 'Penedo',\n",
       " 'Piaçabuçu',\n",
       " 'Pilar',\n",
       " 'Pindoba',\n",
       " 'Piranhas',\n",
       " 'Poço das Trincheiras',\n",
       " 'Porto Calvo',\n",
       " 'Porto de Pedras',\n",
       " 'Porto Real do Colégio',\n",
       " 'Quebrangulo',\n",
       " 'Rio Largo',\n",
       " 'Roteiro',\n",
       " 'Santa Luzia do Norte',\n",
       " 'Santana do Ipanema',\n",
       " 'Santana do Mundaú',\n",
       " 'São Brás',\n",
       " 'São José da Laje',\n",
       " 'São José da Tapera',\n",
       " 'São Luís do Quitunde',\n",
       " 'São Miguel dos Campos',\n",
       " 'São Miguel dos Milagres',\n",
       " 'São Sebastião',\n",
       " 'Satuba',\n",
       " 'Senador Rui Palmeira',\n",
       " \"Tanque d'Arca\",\n",
       " 'Taquarana',\n",
       " 'Teotônio Vilela',\n",
       " 'Traipu',\n",
       " 'União dos Palmares',\n",
       " 'Viçosa']"
      ]
     },
     "execution_count": 10,
     "metadata": {},
     "output_type": "execute_result"
    }
   ],
   "source": [
    "municipios =\"Água Branca; Anadia; Arapiraca; Atalaia; Barra de Santo Antônio; Barra de São Miguel; Batalha; Belém; Belo Monte; Boca da Mata; Branquinha; Cacimbinhas; Cajueiro; Campestre; Campo Alegre; Campo Grande; Canapi; Capela; Carneiros; Chã Preta; Coité do Noia; Colônia Leopoldina; Coqueiro Seco; Coruripe; Craíbas; Delmiro Gouveia; Dois Riachos; Estrela de Alagoas; Feira Grande; Feliz Deserto; Flexeiras; Girau do Ponciano; Ibateguara; Igaci; Igreja Nova; Inhapi; Jacaré dos Homens; Jacuípe; Japaratinga; Jaramataia; Jequiá da Praia; Joaquim Gomes; Jundiá; Junqueiro; Lagoa da Canoa; Limoeiro de Anadia; Maceió; Major Izidoro;Mar Vermelho; Maragogi; Maravilha; Marechal Deodoro; Maribondo; Mata Grande; Matriz de Camaragibe; Messias; Minador do Negrão; Monteirópolis; Murici; Novo Lino; Olho d'Água das Flores; Olho d'Água do Casado; Olho d'Água Grande; Olivença; Ouro Branco; Palestina; Palmeira dos Índios; Pão de Açúcar; Pariconha; Paripueira; Passo de Camaragibe; Paulo Jacinto; Penedo; Piaçabuçu; Pilar; Pindoba; Piranhas; Poço das Trincheiras; Porto Calvo; Porto de Pedras; Porto Real do Colégio; Quebrangulo; Rio Largo; Roteiro; Santa Luzia do Norte; Santana do Ipanema; Santana do Mundaú; São Brás; São José da Laje; São José da Tapera; São Luís do Quitunde; São Miguel dos Campos; São Miguel dos Milagres; São Sebastião; Satuba; Senador Rui Palmeira; Tanque d'Arca; Taquarana; Teotônio Vilela; Traipu; União dos Palmares; Viçosa\"\n",
    "lista = municipios.split('; ')\n",
    "lista"
   ]
  },
  {
   "cell_type": "code",
   "execution_count": 11,
   "metadata": {},
   "outputs": [],
   "source": [
    "separando = text.split(\"Código Identificador\")\n"
   ]
  },
  {
   "cell_type": "code",
   "execution_count": 13,
   "metadata": {},
   "outputs": [],
   "source": [
    "from typing import TextIO\n",
    "def buscaMunicipio(nome,textSplit):\n",
    "  texto=''\n",
    "  for strg in textSplit:\n",
    "    if nome in strg:\n",
    "      texto = texto + strg + \"\\n ---------------------------\"\n",
    "  with open(nome + \".txt\",'w', encoding=\"utf-8\") as arq:\n",
    "    arq.write(texto)"
   ]
  },
  {
   "cell_type": "code",
   "execution_count": 14,
   "metadata": {},
   "outputs": [],
   "source": [
    "for i in lista:\n",
    "  buscaMunicipio(i,separando)"
   ]
  }
 ],
 "metadata": {
  "kernelspec": {
   "display_name": "Python 3",
   "language": "python",
   "name": "python3"
  },
  "language_info": {
   "codemirror_mode": {
    "name": "ipython",
    "version": 3
   },
   "file_extension": ".py",
   "mimetype": "text/x-python",
   "name": "python",
   "nbconvert_exporter": "python",
   "pygments_lexer": "ipython3",
   "version": "3.9.13"
  },
  "orig_nbformat": 4
 },
 "nbformat": 4,
 "nbformat_minor": 2
}
