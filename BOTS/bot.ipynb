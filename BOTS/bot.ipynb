{
 "cells": [
  {
   "cell_type": "code",
   "execution_count": 1,
   "metadata": {},
   "outputs": [
    {
     "name": "stderr",
     "output_type": "stream",
     "text": [
      "/usr/lib/python3/dist-packages/requests/__init__.py:87: RequestsDependencyWarning: urllib3 (2.0.5) or chardet (4.0.0) doesn't match a supported version!\n",
      "  warnings.warn(\"urllib3 ({}) or chardet ({}) doesn't match a supported \"\n"
     ]
    },
    {
     "name": "stdout",
     "output_type": "stream",
     "text": [
      "Your browser has been opened to visit:\n",
      "\n",
      "    https://accounts.google.com/o/oauth2/auth?client_id=771069616627-basolmvkmkh9hfojk7327dvv4mctf80e.apps.googleusercontent.com&redirect_uri=http%3A%2F%2Flocalhost%3A8080%2F&scope=https%3A%2F%2Fwww.googleapis.com%2Fauth%2Fdrive&access_type=offline&response_type=code\n",
      "\n",
      "Authentication successful.\n",
      "Arquivo today.pdf foi enviado para o Google Drive com sucesso.\n"
     ]
    }
   ],
   "source": [
    "import os\n",
    "import time\n",
    "from selenium import webdriver\n",
    "from selenium.webdriver.chrome.service import Service as ChromeService\n",
    "from webdriver_manager.chrome import ChromeDriverManager\n",
    "from selenium.webdriver.common.by import By\n",
    "from selenium.webdriver.support.ui import WebDriverWait\n",
    "from selenium.webdriver.support import expected_conditions as EC\n",
    "from pydrive.auth import GoogleAuth\n",
    "from pydrive.drive import GoogleDrive\n",
    "\n",
    "options = webdriver.ChromeOptions()\n",
    "\n",
    "# Configurar o diretório de download para um local específico\n",
    "prefs = {'download.default_directory': '/home/douglas/MDS/2023-2-Squad03/diarios'}\n",
    "options.add_experimental_option('prefs', prefs)\n",
    "\n",
    "nav = webdriver.Chrome(service=ChromeService(ChromeDriverManager().install()), options=options)\n",
    "nav.get(\"https://www.diariomunicipal.com.br/ama/\")\n",
    "\n",
    "# Interagir com o site para fazer o download\n",
    "nav.find_element(By.XPATH, '//*[@id=\"formCalendario\"]/fieldset/div/div[2]/table/tbody/tr[5]/td[4]').click()\n",
    "elemento = WebDriverWait(nav, 10).until(EC.visibility_of_element_located((By.XPATH, '//*[@id=\"btDownloadSimples2\"]')))\n",
    "\n",
    "# Obter o nome original do arquivo da URL\n",
    "url = elemento.get_attribute(\"href\")\n",
    "nome_original = url.split(\"publicado_\")[-1]\n",
    "nome_original = \"publicado_\" + nome_original\n",
    "\n",
    "# Caminho local completo para o arquivo baixado\n",
    "caminho_local_download = '/home/douglas/MDS/2023-2-Squad03/diarios' + nome_original\n",
    "\n",
    "# Clicar para iniciar o download\n",
    "elemento.click()\n",
    "\n",
    "# Esperar até que o arquivo seja completamente baixado\n",
    "caminho_completo = os.path.join('/home/douglas/MDS/2023-2-Squad03/diarios', nome_original)\n",
    "while not os.path.exists(caminho_completo):\n",
    "    time.sleep(1)\n",
    "\n",
    "# Configurar autenticação com o Google Drive\n",
    "gauth = GoogleAuth()\n",
    "gauth.LocalWebserverAuth()  # Abre uma janela do navegador para autenticação\n",
    "drive = GoogleDrive(gauth)\n",
    "\n",
    "# Verificar se o arquivo existe antes de fazer upload\n",
    "if os.path.exists(caminho_completo):\n",
    "    # Fazer upload do arquivo renomeado para o Google Drive\n",
    "    arquivo = drive.CreateFile({'title': 'today.pdf'})  # Nome do arquivo no Google Drive\n",
    "    arquivo.SetContentFile(caminho_completo)  # Especifique o caminho local do arquivo a ser enviado\n",
    "    arquivo.Upload()\n",
    "    print(f'Arquivo {arquivo[\"title\"]} foi enviado para o Google Drive com sucesso.')\n",
    "else:\n",
    "    print(f'O arquivo {nome_original} não foi encontrado no caminho especificado.')\n",
    "\n",
    "# Fechar o navegador após o download e envio do arquivo\n",
    "nav.quit()\n"
   ]
  }
 ],
 "metadata": {
  "kernelspec": {
   "display_name": "Python 3",
   "language": "python",
   "name": "python3"
  },
  "language_info": {
   "codemirror_mode": {
    "name": "ipython",
    "version": 3
   },
   "file_extension": ".py",
   "mimetype": "text/x-python",
   "name": "python",
   "nbconvert_exporter": "python",
   "pygments_lexer": "ipython3",
   "version": "3.10.12"
  },
  "orig_nbformat": 4
 },
 "nbformat": 4,
 "nbformat_minor": 2
}
