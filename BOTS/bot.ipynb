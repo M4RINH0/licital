{
 "cells": [
  {
   "cell_type": "code",
   "execution_count": null,
   "metadata": {},
   "outputs": [],
   "source": [
    "pip install selenium"
   ]
  },
  {
   "cell_type": "code",
   "execution_count": null,
   "metadata": {},
   "outputs": [],
   "source": [
    "pip install PyDrive"
   ]
  },
  {
   "cell_type": "code",
   "execution_count": null,
   "metadata": {},
   "outputs": [],
   "source": [
    "pip install webdriver-manager"
   ]
  },
  {
   "cell_type": "code",
   "execution_count": null,
   "metadata": {},
   "outputs": [],
   "source": [
    "\n",
    "import os\n",
    "import time\n",
    "import shutil\n",
    "from selenium import webdriver\n",
    "from selenium.webdriver.chrome.service import Service as ChromeService\n",
    "from webdriver_manager.chrome import ChromeDriverManager\n",
    "from selenium.webdriver.common.by import By\n",
    "from selenium.webdriver.chrome.options import Options\n",
    "from selenium.webdriver.support.ui import WebDriverWait\n",
    "from selenium.webdriver.support import expected_conditions as EC\n",
    "from pydrive.auth import GoogleAuth\n",
    "from pydrive.drive import GoogleDrive\n",
    "\n",
    "# Obtenha o diretório atual do script Python\n",
    "script_dir = os.getcwd()\n",
    "\n",
    "# Configure as opções do Chrome para o modo headless\n",
    "chrome_options = Options()\n",
    "chrome_options.add_argument(\"--headless\")\n",
    "chrome_options.add_argument(\"--disable-gpu\")\n",
    "\n",
    "# Configurar o diretório de download para um local específico\n",
    "download_dir = os.path.join(script_dir, 'diarios')  # Diretório de download relativo ao diretório do script\n",
    "shutil.rmtree(download_dir, ignore_errors=True)\n",
    "os.makedirs(download_dir)\n",
    "prefs = {'download.default_directory': download_dir}\n",
    "chrome_options.add_experimental_option('prefs', prefs)\n",
    "\n",
    "# Configurar o serviço do ChromeDriver\n",
    "chrome_service = ChromeService(ChromeDriverManager().install())\n",
    "\n",
    "# Inicializar o navegador Chrome\n",
    "nav = webdriver.Chrome(service=chrome_service, options=chrome_options)\n",
    "nav.get(\"https://www.diariomunicipal.com.br/ama/\")\n",
    "\n",
    "# Interagir com o site para fazer o download\n",
    "nav.find_element(By.CLASS_NAME, \"selected\").click()\n",
    "elemento = WebDriverWait(nav, 10).until(EC.visibility_of_element_located((By.XPATH, '//*[@id=\"btDownloadSimples2\"]')))\n",
    "\n",
    "# Obter o nome original do arquivo da URL\n",
    "url = elemento.get_attribute(\"href\")\n",
    "nome_original = url.split(\"publicado_\")[-1]\n",
    "nome_original = \"publicado_\" + nome_original\n",
    "\n",
    "# Caminho local completo para o arquivo baixado\n",
    "caminho_local_download = os.path.join(download_dir, nome_original)\n",
    "\n",
    "# Clicar para iniciar o download\n",
    "elemento.click()\n",
    "\n",
    "# Esperar até que o arquivo seja completamente baixado\n",
    "while not os.path.exists(caminho_local_download):\n",
    "    time.sleep(1)\n",
    "\n",
    "# Configurar autenticação automática com o Google Drive usando OAuth2\n",
    "gauth = GoogleAuth()\n",
    "#gauth.LocalWebserverAuth()\n",
    "drive = GoogleDrive(gauth)\n",
    "\n",
    "# Verificar se o arquivo \"today\" antigo existe no Google Drive e excluí-lo\n",
    "file_list = drive.ListFile({'q': \"title = 'today.pdf'\"}).GetList()\n",
    "if file_list:\n",
    "    old_file = file_list[0]\n",
    "    old_file.Delete()  # Excluir o arquivo antigo\n",
    "\n",
    "# Verificar se o arquivo existe antes de fazer upload\n",
    "if os.path.exists(caminho_local_download):\n",
    "    # Fazer upload do arquivo renomeado para o Google Drive\n",
    "    arquivo = drive.CreateFile({'title': 'today.pdf'})  # Nome do arquivo no Google Drive\n",
    "    arquivo.SetContentFile(caminho_local_download)  # Especifique o caminho local do arquivo a ser enviado\n",
    "    arquivo.Upload()\n",
    "    print(f'Arquivo {arquivo[\"title\"]} foi enviado para o Google Drive com sucesso.')\n",
    "else:\n",
    "    print(f'O arquivo {nome_original} não foi encontrado no caminho especificado.')\n",
    "\n",
    "# Fechar o navegador após o download e envio do arquivo\n",
    "nav.quit()\n"
   ]
  },
  {
   "cell_type": "code",
   "execution_count": null,
   "metadata": {},
   "outputs": [],
   "source": [
    "from pydrive.auth import GoogleAuth\n",
    "from pydrive.drive import GoogleDrive\n",
    "\n",
    "gauth = GoogleAuth()\n",
    "#gauth.LocalWebserverAuth()\n",
    "drive = GoogleDrive(gauth)\n",
    "# Nome do arquivo que você deseja encontrar\n",
    "nome_do_arquivo = \"today.pdf\"\n",
    "\n",
    "# Lista todos os arquivos na sua conta do Google Drive\n",
    "arquivos = drive.ListFile({'q': \"trashed=false\"}).GetList()\n",
    "\n",
    "# Itera pela lista de arquivos e verifica se o nome corresponde ao que você procura\n",
    "arquivo_encontrado = None\n",
    "for arquivo in arquivos:\n",
    "    if arquivo['title'] == nome_do_arquivo:\n",
    "        arquivo_encontrado = arquivo\n",
    "        break\n",
    "\n",
    "# Verifica se o arquivo foi encontrado\n",
    "if arquivo_encontrado:\n",
    "    # Baixa o arquivo\n",
    "    arquivo_encontrado.GetContentFile(arquivo_encontrado['title'])\n",
    "    print(f\"Arquivo '{nome_do_arquivo}' baixado com sucesso!\")\n",
    "else:\n",
    "    print(f\"Arquivo '{nome_do_arquivo}' não encontrado no Google Drive.\")"
   ]
  },
  {
   "cell_type": "code",
   "execution_count": null,
   "metadata": {},
   "outputs": [],
   "source": [
    "pip install PyMuPDF"
   ]
  },
  {
   "cell_type": "code",
   "execution_count": null,
   "metadata": {},
   "outputs": [],
   "source": [
    "import fitz\n",
    "import os\n",
    "\n",
    "# Nome do arquivo PDF de entrada\n",
    "pdf_file = \"today.pdf\"\n",
    "\n",
    "# Nome do arquivo de saída TXT\n",
    "txt_file = \"ola.txt\"\n",
    "\n",
    "# Abra o arquivo PDF\n",
    "with fitz.open(\"today.pdf\") as doc:\n",
    "    text = \"\"\n",
    "    for page in doc:\n",
    "        text += page.get_text()\n",
    "\n",
    "# Abra o arquivo TXT para escrita, especificando a codificação \"utf-8\"\n",
    "with open(txt_file, \"w\", encoding=\"utf-8\") as txt:\n",
    "    txt.write(text)\n",
    "\n",
    "print(f\"Texto do PDF foi salvo em '{txt_file}' com sucesso!\") "
   ]
  },
  {
   "cell_type": "code",
   "execution_count": null,
   "metadata": {},
   "outputs": [],
   "source": [
    "municipios =\"Água Branca; Anadia; Arapiraca; Atalaia; Barra de Santo Antônio; Barra de São Miguel; Batalha; Belém; Belo Monte; Boca da Mata; Branquinha; Cacimbinhas; Cajueiro; Campestre; Campo Alegre; Campo Grande; Canapi; Capela; Carneiros; Chã Preta; Coité do Noia; Colônia Leopoldina; Coqueiro Seco; Coruripe; Craíbas; Delmiro Gouveia; Dois Riachos; Estrela de Alagoas; Feira Grande; Feliz Deserto; Flexeiras; Girau do Ponciano; Ibateguara; Igaci; Igreja Nova; Inhapi; Jacaré dos Homens; Jacuípe; Japaratinga; Jaramataia; Jequiá da Praia; Joaquim Gomes; Jundiá; Junqueiro; Lagoa da Canoa; Limoeiro de Anadia; Maceió; Major Izidoro;Mar Vermelho; Maragogi; Maravilha; Marechal Deodoro; Maribondo; Mata Grande; Matriz de Camaragibe; Messias; Minador do Negrão; Monteirópolis; Murici; Novo Lino; Olho d'Água das Flores; Olho d'Água do Casado; Olho d'Água Grande; Olivença; Ouro Branco; Palestina; Palmeira dos Índios; Pão de Açúcar; Pariconha; Paripueira; Passo de Camaragibe; Paulo Jacinto; Penedo; Piaçabuçu; Pilar; Pindoba; Piranhas; Poço das Trincheiras; Porto Calvo; Porto de Pedras; Porto Real do Colégio; Quebrangulo; Rio Largo; Roteiro; Santa Luzia do Norte; Santana do Ipanema; Santana do Mundaú; São Brás; São José da Laje; São José da Tapera; São Luís do Quitunde; São Miguel dos Campos; São Miguel dos Milagres; São Sebastião; Satuba; Senador Rui Palmeira; Tanque d'Arca; Taquarana; Teotônio Vilela; Traipu; União dos Palmares; Viçosa\"\n",
    "lista = municipios.split('; ')\n",
    "lista"
   ]
  },
  {
   "cell_type": "code",
   "execution_count": null,
   "metadata": {},
   "outputs": [],
   "source": [
    "separando = text.split(\"Código Identificador\")\n"
   ]
  },
  {
   "cell_type": "code",
   "execution_count": null,
   "metadata": {},
   "outputs": [],
   "source": [
    "from typing import TextIO\n",
    "def buscaMunicipio(nome,textSplit):\n",
    "  texto=''\n",
    "  for strg in textSplit:\n",
    "    if nome in strg:\n",
    "      texto = texto + strg + \"\\n ---------------------------\"\n",
    "  with open(nome + \".txt\",'w', encoding=\"utf-8\") as arq:\n",
    "    arq.write(texto)"
   ]
  },
  {
   "cell_type": "code",
   "execution_count": null,
   "metadata": {},
   "outputs": [],
   "source": [
    "for i in lista:\n",
    "  buscaMunicipio(i,separando)"
   ]
  }
 ],
 "metadata": {
  "kernelspec": {
   "display_name": "Python 3",
   "language": "python",
   "name": "python3"
  },
  "language_info": {
   "codemirror_mode": {
    "name": "ipython",
    "version": 3
   },
   "file_extension": ".py",
   "mimetype": "text/x-python",
   "name": "python",
   "nbconvert_exporter": "python",
   "pygments_lexer": "ipython3",
   "version": "3.10.12"
  },
  "orig_nbformat": 4
 },
 "nbformat": 4,
 "nbformat_minor": 2
}
