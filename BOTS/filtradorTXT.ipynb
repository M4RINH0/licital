{
  "cells": [
    {
      "cell_type": "code",
      "execution_count": 1,
      "metadata": {
        "colab": {
          "base_uri": "https://localhost:8080/"
        },
        "id": "R-sfK4dtqG79",
        "outputId": "51ad1358-eb62-4fdc-d6fd-ac5add4acb4a"
      },
      "outputs": [
        {
          "name": "stdout",
          "output_type": "stream",
          "text": [
            "Defaulting to user installation because normal site-packages is not writeable\n",
            "Requirement already satisfied: PyMuPDF in /home/douglas/.local/lib/python3.10/site-packages (1.23.4)\n",
            "Requirement already satisfied: PyMuPDFb==1.23.3 in /home/douglas/.local/lib/python3.10/site-packages (from PyMuPDF) (1.23.3)\n",
            "Note: you may need to restart the kernel to use updated packages.\n"
          ]
        }
      ],
      "source": [
        "pip install PyMuPDF"
      ]
    },
    {
      "cell_type": "code",
      "execution_count": null,
      "metadata": {
        "id": "jd0G2nkMqUHk"
      },
      "outputs": [],
      "source": [
        "import fitz\n",
        "with fitz.open(\"/content/DOEAL3763500216225092023.pdf\") as doc:\n",
        "    text = \"\"\n",
        "    for page in doc:\n",
        "        text += page.get_text()\n",
        "\n"
      ]
    },
    {
      "cell_type": "code",
      "execution_count": null,
      "metadata": {
        "id": "1FkztWWERJug"
      },
      "outputs": [],
      "source": [
        "with open('ola.txt',\"w\") as txt: #trasnsformado para arquivo .txt\n",
        "  txt.write(text)\n"
      ]
    },
    {
      "cell_type": "code",
      "execution_count": null,
      "metadata": {
        "colab": {
          "base_uri": "https://localhost:8080/"
        },
        "id": "-3eom0QaaiyU",
        "outputId": "d78d4c2b-7e92-404f-8daa-f3ca85ec66f3"
      },
      "outputs": [
        {
          "data": {
            "text/plain": [
              "['Arapiraca',\n",
              " 'Batalha',\n",
              " 'Belo Monte',\n",
              " 'Campo Grande',\n",
              " 'Coité do Nóia',\n",
              " 'Craíbas',\n",
              " 'Feira Grande',\n",
              " 'Girau do Ponciano',\n",
              " 'Jaramataia',\n",
              " 'Lagoa da Canoa',\n",
              " 'Limoeiro de Anadia',\n",
              " 'São Sebastião',\n",
              " 'Taquarana',\n",
              " 'Traipu']"
            ]
          },
          "execution_count": 20,
          "metadata": {},
          "output_type": "execute_result"
        }
      ],
      "source": [
        "municipios =\"Água Branca; Anadia; Arapiraca; Atalaia; Barra de Santo Antônio; Barra de São Miguel; Batalha; Belém; Belo Monte; Boca da Mata; Branquinha; Cacimbinhas; Cajueiro; Campestre; Campo Alegre; Campo Grande; Canapi; Capela; Carneiros; Chã Preta; Coité do Noia; Colônia Leopoldina; Coqueiro Seco; Coruripe; Craíbas; Delmiro Gouveia; Dois Riachos; Estrela de Alagoas; Feira Grande; Feliz Deserto; Flexeiras; Girau do Ponciano; Ibateguara; Igaci; Igreja Nova; Inhapi; Jacaré dos Homens; Jacuípe; Japaratinga; Jaramataia; Jequiá da Praia; Joaquim Gomes; Jundiá; Junqueiro; Lagoa da Canoa; Limoeiro de Anadia; Maceió; Major Izidoro;Mar Vermelho; Maragogi; Maravilha; Marechal Deodoro; Maribondo; Mata Grande; Matriz de Camaragibe; Messias; Minador do Negrão; Monteirópolis; Murici; Novo Lino; Olho d'Água das Flores; Olho d'Água do Casado; Olho d'Água Grande; Olivença; Ouro Branco; Palestina; Palmeira dos Índios; Pão de Açúcar; Pariconha; Paripueira; Passo de Camaragibe; Paulo Jacinto; Penedo; Piaçabuçu; Pilar; Pindoba; Piranhas; Poço das Trincheiras; Porto Calvo; Porto de Pedras; Porto Real do Colégio; Quebrangulo; Rio Largo; Roteiro; Santa Luzia do Norte; Santana do Ipanema; Santana do Mundaú; São Brás; São José da Laje; São José da Tapera; São Luís do Quitunde; São Miguel dos Campos; São Miguel dos Milagres; São Sebastião; Satuba; Senador Rui Palmeira; Tanque d'Arca; Taquarana; Teotônio Vilela; Traipu; União dos Palmares; Viçosa\"\n",
        "lista = municipios.split('; ')\n",
        "lista"
      ]
    },
    {
      "cell_type": "code",
      "execution_count": null,
      "metadata": {
        "colab": {
          "base_uri": "https://localhost:8080/"
        },
        "id": "RtH_g7omiYoC",
        "outputId": "ae21e9e2-f54d-482a-d75b-dd4edd0165ff"
      },
      "outputs": [
        {
          "name": "stdout",
          "output_type": "stream",
          "text": [
            "ola \n",
            " ola\n"
          ]
        }
      ],
      "source": [
        "separando = text.split(\"Protocolo\")\n"
      ]
    },
    {
      "cell_type": "code",
      "execution_count": null,
      "metadata": {
        "id": "M5PGqBVA7fdO"
      },
      "outputs": [],
      "source": [
        "from typing import TextIO\n",
        "def buscaMunicipio(nome,textSplit):\n",
        "  texto=''\n",
        "  for strg in textSplit:\n",
        "    if nome in strg:\n",
        "      texto = texto + strg + \"\\n ---------------------------\"\n",
        "  with open(nome + \".txt\",'w') as arq:\n",
        "    arq.write(texto)\n",
        "\n"
      ]
    },
    {
      "cell_type": "code",
      "execution_count": null,
      "metadata": {
        "id": "8DiLHhjl_Pv0"
      },
      "outputs": [],
      "source": [
        "for i in lista:\n",
        "  buscaMunicipio(i,separando)"
      ]
    }
  ],
  "metadata": {
    "colab": {
      "provenance": []
    },
    "kernelspec": {
      "display_name": "Python 3",
      "name": "python3"
    },
    "language_info": {
      "codemirror_mode": {
        "name": "ipython",
        "version": 3
      },
      "file_extension": ".py",
      "mimetype": "text/x-python",
      "name": "python",
      "nbconvert_exporter": "python",
      "pygments_lexer": "ipython3",
      "version": "3.10.12"
    }
  },
  "nbformat": 4,
  "nbformat_minor": 0
}
